{
 "cells": [
  {
   "cell_type": "markdown",
   "id": "8ab4407f",
   "metadata": {},
   "source": [
    "### Importar las cosas necesarias"
   ]
  },
  {
   "cell_type": "code",
   "execution_count": 1,
   "id": "8c94f3e9",
   "metadata": {},
   "outputs": [],
   "source": [
    "import pandas as pd\n",
    "import numpy as np\n",
    "import matplotlib.pyplot as plt"
   ]
  },
  {
   "cell_type": "code",
   "execution_count": 2,
   "id": "aba36cf5",
   "metadata": {},
   "outputs": [],
   "source": [
    "#Crear los arreglos para poder usarlos como ejemplos al rato\n",
    "arr1d = np.array([1,2,3,4,5,6,7,8,9])\n",
    "arr2d = np.array([[1,2,3,4],[5,6,7,8]])\n",
    "arr3d = np.array([[[1,2,3,4,5],[6,7,8,9,10]]])"
   ]
  },
  {
   "cell_type": "code",
   "execution_count": 3,
   "id": "66efe5fa",
   "metadata": {},
   "outputs": [
    {
     "name": "stdout",
     "output_type": "stream",
     "text": [
      "1ra dimensión: \n",
      " (9,) \n",
      "2da dimensión:\n",
      " (2, 4) \n",
      "3ra dimensión:\n",
      " (1, 2, 5)\n"
     ]
    }
   ],
   "source": [
    "#Shape es para saber que hay por dentro de un arreglo \n",
    "print('1ra dimensión: \\n', arr1d.shape, '\\n2da dimensión:\\n', arr2d.shape, '\\n3ra dimensión:\\n', arr3d.shape)"
   ]
  },
  {
   "cell_type": "code",
   "execution_count": 4,
   "id": "2edff14f",
   "metadata": {},
   "outputs": [
    {
     "name": "stdout",
     "output_type": "stream",
     "text": [
      "Reshape 1 dim: \n",
      " [[1 2 3]\n",
      " [4 5 6]\n",
      " [7 8 9]] \n",
      "Reshape 2 dim:\n",
      " [1 2 3 4 5 6 7 8] \n",
      "Reshape a 9:\n",
      " [1 2 3 4 5 6 7 8 9]\n"
     ]
    }
   ],
   "source": [
    "#Reshape para modificar las dimensiones de un arreglo\n",
    "#por ejemplo, aplicado en el de 1ra dimn\n",
    "#En este caso tiene que ser simestrico osea 9 datos se pueden partir en 3 3 3, pero puede aplciar diferente.. creo\n",
    "reArr1d = arr1d.reshape(3,3)\n",
    "\n",
    "# --------\n",
    "#Si se usa reshape(-1), convierte arreglo de cualquier tamaño/dimensión a una sola dimensión\n",
    "#por ejemplo el de 2 dimensiones se hará uno.\n",
    "reArr2d = arr2d.reshape(-1)\n",
    "\n",
    "# --------\n",
    "#Igual si un arreglo es de 9 datos por ejemplo, si hacemos el reshape de la cantidad que es el arreglo\n",
    "reArr1d_9 = arr1d.reshape(9)\n",
    "\n",
    "# ----\n",
    "# Imprimir datos\n",
    "print('Reshape 1 dim: \\n', reArr1d, '\\nReshape 2 dim:\\n', reArr2d, '\\nReshape a 9:\\n', reArr1d_9)"
   ]
  },
  {
   "cell_type": "code",
   "execution_count": 5,
   "id": "db2c105b",
   "metadata": {},
   "outputs": [
    {
     "data": {
      "text/plain": [
       "(array([5]),)"
      ]
     },
     "execution_count": 5,
     "metadata": {},
     "output_type": "execute_result"
    }
   ],
   "source": [
    "#WHERE \n",
    "#para ubicar elementos en un arreglo, por ejemplo en que posición esta el número 6 en el arreglo \n",
    "BusArr1 = np.where(arr1d == 6)\n",
    "BusArr1"
   ]
  },
  {
   "cell_type": "code",
   "execution_count": 6,
   "id": "e841edf3",
   "metadata": {},
   "outputs": [
    {
     "name": "stdout",
     "output_type": "stream",
     "text": [
      "El arreglo acomodado es:\n",
      " [   1    6    7   10   12   20   22   34   45 2000] \n",
      "El arreglo string ordenado es:\n",
      " ['Astrey' 'Awtry' 'Beatrix' 'Diana' 'Jorge' 'Xu'] \n",
      "El arreglo 2 dim ordenado:\n",
      " [[ 2  5 10]\n",
      " [ 4  6 20]]\n"
     ]
    }
   ],
   "source": [
    "#SORT un arreglo (Acomodarlo de menor a mayor o viceversa)\n",
    "#Hay que hacer un arreglo desordenado\n",
    "arrDes = np.array([45,12,7,34,22,1,6,10,20,2000])\n",
    "\n",
    "#SORT en string\n",
    "#Para acomodar cosas alfabéticamente \n",
    "arrSDes = np.array(['Jorge','Diana','Awtry','Beatrix','Astrey','Xu'])\n",
    "\n",
    "#SORT en dos dimensiones\n",
    "arr2DD = np.array([[2,10,5],[20,6,4]])\n",
    "\n",
    "#Impresión de datos\n",
    "print('El arreglo acomodado es:\\n', np.sort(arrDes)\n",
    "      ,'\\nEl arreglo string ordenado es:\\n', np.sort(arrSDes)\n",
    "      ,'\\nEl arreglo 2 dim ordenado:\\n', np.sort(arr2DD))"
   ]
  },
  {
   "cell_type": "code",
   "execution_count": 7,
   "id": "ca69c43f",
   "metadata": {},
   "outputs": [
    {
     "name": "stdout",
     "output_type": "stream",
     "text": [
      "Lo que ve el filtro:\n",
      " [False False False False  True  True  True  True  True] \n",
      "Lo que se guardo como nuevo:\n",
      " [5 6 7 8 9]\n"
     ]
    }
   ],
   "source": [
    "#FILTROS\n",
    "#Se pueden generar filtros y después agregarlos en un arreglo\n",
    "filtro = arr1d > 4\n",
    "newArr1d = arr1d[filtro]\n",
    "\n",
    "#Impresión\n",
    "print('Lo que ve el filtro:\\n', filtro\n",
    "      ,'\\nLo que se guardo como nuevo:\\n', newArr1d)"
   ]
  },
  {
   "cell_type": "code",
   "execution_count": 8,
   "id": "7a8d2b9f",
   "metadata": {},
   "outputs": [
    {
     "name": "stdout",
     "output_type": "stream",
     "text": [
      "El arreglo generado automático:\n",
      " [ 0  1  2  3  4  5  6  7  8  9 10 11 12 13 14 15 16 17 18 19] \n",
      "Arreglo desimal:\n",
      " [0. 1. 2. 3. 4. 5. 6. 7.] \n",
      "Arreglo con un inicio y un fin:\n",
      " [ 2  3  4  5  6  7  8  9 10 11 12 13 14 15 16 17 18 19] \n",
      "Arreglo con saltos:\n",
      " [ 0  2  4  6  8 10 12 14 16 18 20]\n"
     ]
    }
   ],
   "source": [
    "#ARANGE · Generar un rango ·\n",
    "#Rango simple\n",
    "arange = np.arange(20)\n",
    "#Rango con desimales\n",
    "arangeDesi = np.arange(8.0)\n",
    "#Rango con un inicio y un fin\n",
    "arangeINFI = np.arange(2, 20)\n",
    "#Rango con saltos marcados ** El número final, no se verá en el arreglo\n",
    "arangeSalto = np.arange(0, 22, 2)\n",
    "\n",
    "\n",
    "print('El arreglo generado automático:\\n', arange\n",
    "      ,'\\nArreglo desimal:\\n', arangeDesi\n",
    "      ,'\\nArreglo con un inicio y un fin:\\n', arangeINFI\n",
    "      ,'\\nArreglo con saltos:\\n', arangeSalto)"
   ]
  },
  {
   "cell_type": "code",
   "execution_count": 9,
   "id": "a72cf22d",
   "metadata": {},
   "outputs": [
    {
     "name": "stdout",
     "output_type": "stream",
     "text": [
      "\n",
      "Tamaño de cada elemento de la lista en bytes: 48 \n",
      "Tamaño total de la lista en bytes: 48000\n"
     ]
    }
   ],
   "source": [
    "import sys\n",
    "#Para hacer una lista de Python\n",
    "#Esto es para ver cuanto espacio ocupan las variables no optimizadas como las de numpy\n",
    "s = range(1000)\n",
    "print('\\nTamaño de cada elemento de la lista en bytes:', sys.getsizeof(s)\n",
    "      ,'\\nTamaño total de la lista en bytes:', sys.getsizeof(s)*len(s))"
   ]
  },
  {
   "cell_type": "code",
   "execution_count": 10,
   "id": "b68ced4a",
   "metadata": {},
   "outputs": [
    {
     "name": "stdout",
     "output_type": "stream",
     "text": [
      "\n",
      "Tamaño de cada elemento del rango de numpy en bytes: 8 \n",
      "Tamaño total de rango numpy en bytes: 8000\n"
     ]
    }
   ],
   "source": [
    "#Esto es para ver cuanto espacio ocupan las variables no optimizadas como las de numpy\n",
    "Ns = np.arange(1000)\n",
    "print('\\nTamaño de cada elemento del rango de numpy en bytes:', Ns.itemsize\n",
    "      ,'\\nTamaño total de rango numpy en bytes:', Ns.itemsize*Ns.size)"
   ]
  },
  {
   "cell_type": "code",
   "execution_count": 11,
   "id": "102b1a57",
   "metadata": {},
   "outputs": [
    {
     "name": "stdout",
     "output_type": "stream",
     "text": [
      "El arreglo de 0s:\n",
      " [0. 0. 0. 0.] \n",
      "Arreglo de unos:\n",
      " [1. 1. 1. 1.] \n",
      "Arreglo de 1 en 2 dimensiones:\n",
      " [[1. 1. 1. 1.]\n",
      " [1. 1. 1. 1.]]\n"
     ]
    }
   ],
   "source": [
    "#NUMPY ZEROS \n",
    "#Al parecer se pueden generar arreglos de solo ceros, algún uso deben de tener\n",
    "#Igualmente se pueden hacer arreglos de 1 (unos)\n",
    "Ze = np.zeros(4)\n",
    "On = np.ones(4)\n",
    "#Arreglos de uno/cero de dos dimensiones\n",
    "ArrOn2d = np.ones((2,4))\n",
    "\n",
    "#Impresión de datos\n",
    "print('El arreglo de 0s:\\n', Ze\n",
    "      ,'\\nArreglo de unos:\\n', On\n",
    "      ,'\\nArreglo de 1 en 2 dimensiones:\\n', ArrOn2d)"
   ]
  },
  {
   "cell_type": "code",
   "execution_count": 12,
   "id": "7669a0ea",
   "metadata": {},
   "outputs": [
    {
     "name": "stdout",
     "output_type": "stream",
     "text": [
      "El arreglo LinSpace:\n",
      " [ 2.  13.6 25.2 36.8 48.4 60. ] \n",
      "Arreglo sin final cerrado:\n",
      " [ 2.  10.8 19.6 28.4 37.2 46.  54.8 63.6 72.4 81.2] \n",
      "Linspace completo \n",
      " [  2.   4.   6.   8.  10.  12.  14.  16.  18.  20.  22.  24.  26.  28.\n",
      "  30.  32.  34.  36.  38.  40.  42.  44.  46.  48.  50.  52.  54.  56.\n",
      "  58.  60.  62.  64.  66.  68.  70.  72.  74.  76.  78.  80.  82.  84.\n",
      "  86.  88.  90.  92.  94.  96.  98. 100.]\n"
     ]
    }
   ],
   "source": [
    "#LINSPACE\n",
    "#Es otra especie de arreglo en el cual declaras el inicio, el final y el intervalo pero más explicito \n",
    "# ----\n",
    "# Que con el número de intervalo llegue al número deseado (no se, parece una serie númerica de alguna forma. )\n",
    "Lin = np.linspace(2,60, num = 6)\n",
    "LinFin = np.linspace(2,90, num= 10, endpoint = False)\n",
    "#endpoint es para quitar el final en ese caso es noventa, pero llegara hasta uno anterior de 90\n",
    "LinCompleto = np.linspace(2, 100)\n",
    "#Si no se le pone un intervalo se ajusta automático a 50\n",
    "\n",
    "#Si se requiere más información se puede encontrar buscando\n",
    "# help(np.linspace)\n",
    "\n",
    "#Impresión de datos\n",
    "print('El arreglo LinSpace:\\n', Lin\n",
    "      ,'\\nArreglo sin final cerrado:\\n', LinFin\n",
    "      ,'\\nLinspace completo \\n', LinCompleto )"
   ]
  },
  {
   "cell_type": "code",
   "execution_count": 13,
   "id": "7a96970d",
   "metadata": {},
   "outputs": [
    {
     "name": "stdout",
     "output_type": "stream",
     "text": [
      "Números random:\n",
      " [0.72266409 0.59334887 0.8139683  0.37705479 0.47367165 0.54550531\n",
      " 0.34714127 0.82111354 0.49621948 0.26440943 0.10941616 0.70004423\n",
      " 0.62592057 0.95728504 0.84098643] \n",
      "Números random pos y neg:\n",
      " [ 0.54908021 -0.542726   -0.94267104 -0.27560482 -0.26245578 -1.27942959\n",
      " -0.49998083 -1.44587076 -0.87539504  1.10011123 -1.00032838  1.00924077\n",
      "  2.2181553   1.35797647 -0.16435551]\n"
     ]
    }
   ],
   "source": [
    "#Números Random\n",
    "#Números random positivos\n",
    "ran1 = np.random.rand(15)\n",
    "#Números random pos y neg\n",
    "ran2 = np.random.randn(15)\n",
    "\n",
    "# Impresión de datos\n",
    "print('Números random:\\n', ran1\n",
    "      ,'\\nNúmeros random pos y neg:\\n', ran2)"
   ]
  },
  {
   "cell_type": "code",
   "execution_count": 14,
   "id": "a611c271",
   "metadata": {},
   "outputs": [
    {
     "data": {
      "image/png": "[encoded data removed]",
      "text/plain": [
       "<Figure size 432x288 with 1 Axes>"
      ]
     },
     "metadata": {
      "needs_background": "light"
     },
     "output_type": "display_data"
    }
   ],
   "source": [
    "#Matplotlib \n",
    "\n",
    "#Para gráficar datos númericos, por ejemplo ya los que usamos anteriormente, los random\n",
    "#Una gráfica de la distribución uniforme, porque todos los datos son positivos\n",
    "grafRan = np.random.rand(1000)\n",
    "pdf, bins, patches = plt.hist(grafRan, bins = 10, range = (0,1), density = True)\n",
    "plt.title('Gráfica prueba')\n",
    "plt.show()"
   ]
  },
  {
   "cell_type": "code",
   "execution_count": 16,
   "id": "1e4139da",
   "metadata": {},
   "outputs": [
    {
     "data": {
      "image/png": "[encoded data removed]",
      "text/plain": [
       "<Figure size 432x288 with 1 Axes>"
      ]
     },
     "metadata": {
      "needs_background": "light"
     },
     "output_type": "display_data"
    }
   ],
   "source": [
    "# Gráfica de datos normales ( negativos y positivos )\n",
    "grafNor = np.random.randn(1000)\n",
    "pdf, bins, patches = plt.hist(grafNor, bins = 20, range = (-4,4), density = True)\n",
    "plt.title('Gráfica prueba')\n",
    "plt.show()\n",
    "# Parece una distribución normal estandar, una casi perfecta campana de gaussb"
   ]
  },
  {
   "cell_type": "code",
   "execution_count": 22,
   "id": "5f49189f",
   "metadata": {},
   "outputs": [
    {
     "name": "stdout",
     "output_type": "stream",
     "text": [
      "Arreglo con suma: [ 6  7  8  9 10 11 12 13 14] \n",
      "Arreglo con resta: [-4 -3 -2 -1  0  1  2  3  4] \n",
      "Arreglo con multiplicación: [ 5 10 15 20 25 30 35 40 45] \n",
      "Arreglo con divición: [0.2 0.4 0.6 0.8 1.  1.2 1.4 1.6 1.8]\n"
     ]
    }
   ],
   "source": [
    "#También se pueden hacer operaciones matemáticas dentro de los arreglos\n",
    "ArrBas = np.arange(1,10)\n",
    "\n",
    "print('Arreglo con suma:', ArrBas+5\n",
    "      ,'\\nArreglo con resta:', ArrBas-5\n",
    "      ,'\\nArreglo con multiplicación:', ArrBas*5\n",
    "      ,'\\nArreglo con divición:', ArrBas/5)"
   ]
  },
  {
   "cell_type": "code",
   "execution_count": 23,
   "id": "991f53d7",
   "metadata": {},
   "outputs": [
    {
     "data": {
      "text/plain": [
       "array([10., 20., 30., 40., 50., 60., 70., 80., 90.])"
      ]
     },
     "execution_count": 23,
     "metadata": {},
     "output_type": "execute_result"
    }
   ],
   "source": [
    "#Más pruebas de operaciones con arrays\n",
    "ArrSpace = np.linspace(10,90, num = 9)\n",
    "\n",
    "print('Arreglo base:', ArrBas\n",
    "      ,'\\nArreglo con linspace:', ArrSpace\n",
    "      ,'\\nArreglo con multiplicación:', ArrBas\n",
    "      ,'\\nArreglo con divición:', ArrBas/5)"
   ]
  }
 ],
 "metadata": {
  "kernelspec": {
   "display_name": "Python 3 (ipykernel)",
   "language": "python",
   "name": "python3"
  },
  "language_info": {
   "codemirror_mode": {
    "name": "ipython",
    "version": 3
   },
   "file_extension": ".py",
   "mimetype": "text/x-python",
   "name": "python",
   "nbconvert_exporter": "python",
   "pygments_lexer": "ipython3",
   "version": "3.9.12"
  }
 },
 "nbformat": 4,
 "nbformat_minor": 5
}
